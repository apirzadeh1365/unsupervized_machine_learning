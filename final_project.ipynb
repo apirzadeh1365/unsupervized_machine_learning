{
 "cells": [
  {
   "cell_type": "markdown",
   "metadata": {},
   "source": []
  },
  {
   "cell_type": "code",
   "execution_count": 129,
   "metadata": {},
   "outputs": [],
   "source": [
    "import pandas as pd\n",
    "import numpy as np\n",
    "import matplotlib.pyplot as plt\n",
    "import seaborn as sns\n",
    "from sklearn.cluster import KMeans,DBSCAN,MeanShift\n",
    "from sklearn import metrics\n",
    "from itertools import cycle\n",
    "import plotly.graph_objs as go\n",
    "from sklearn.manifold import MDS\n",
    "from sklearn.decomposition import PCA\n",
    "from sklearn.neighbors import NearestNeighbors\n",
    "import warnings\n"
   ]
  },
  {
   "cell_type": "code",
   "execution_count": 130,
   "metadata": {},
   "outputs": [
    {
     "name": "stdout",
     "output_type": "stream",
     "text": [
      "(165, 31)\n"
     ]
    },
    {
     "data": {
      "text/html": [
       "<div>\n",
       "<style scoped>\n",
       "    .dataframe tbody tr th:only-of-type {\n",
       "        vertical-align: middle;\n",
       "    }\n",
       "\n",
       "    .dataframe tbody tr th {\n",
       "        vertical-align: top;\n",
       "    }\n",
       "\n",
       "    .dataframe thead th {\n",
       "        text-align: right;\n",
       "    }\n",
       "</style>\n",
       "<table border=\"1\" class=\"dataframe\">\n",
       "  <thead>\n",
       "    <tr style=\"text-align: right;\">\n",
       "      <th></th>\n",
       "      <th>0</th>\n",
       "      <th>1</th>\n",
       "      <th>2</th>\n",
       "      <th>3</th>\n",
       "      <th>4</th>\n",
       "      <th>5</th>\n",
       "      <th>6</th>\n",
       "      <th>7</th>\n",
       "      <th>8</th>\n",
       "      <th>9</th>\n",
       "      <th>...</th>\n",
       "      <th>21</th>\n",
       "      <th>22</th>\n",
       "      <th>23</th>\n",
       "      <th>24</th>\n",
       "      <th>25</th>\n",
       "      <th>26</th>\n",
       "      <th>27</th>\n",
       "      <th>28</th>\n",
       "      <th>29</th>\n",
       "      <th>Species</th>\n",
       "    </tr>\n",
       "  </thead>\n",
       "  <tbody>\n",
       "    <tr>\n",
       "      <th>0</th>\n",
       "      <td>133.426742</td>\n",
       "      <td>-101.627603</td>\n",
       "      <td>21.125902</td>\n",
       "      <td>-11.518251</td>\n",
       "      <td>4.621089</td>\n",
       "      <td>-1.519551</td>\n",
       "      <td>0.583410</td>\n",
       "      <td>-7.182875</td>\n",
       "      <td>1.410030</td>\n",
       "      <td>0.216411</td>\n",
       "      <td>...</td>\n",
       "      <td>-0.406979</td>\n",
       "      <td>0.607499</td>\n",
       "      <td>-1.309488</td>\n",
       "      <td>1.555190</td>\n",
       "      <td>-0.301822</td>\n",
       "      <td>-0.433051</td>\n",
       "      <td>0.037651</td>\n",
       "      <td>-0.279618</td>\n",
       "      <td>-0.421040</td>\n",
       "      <td>hosei</td>\n",
       "    </tr>\n",
       "    <tr>\n",
       "      <th>1</th>\n",
       "      <td>145.344740</td>\n",
       "      <td>-108.229812</td>\n",
       "      <td>21.121390</td>\n",
       "      <td>-14.982879</td>\n",
       "      <td>2.299335</td>\n",
       "      <td>-2.354040</td>\n",
       "      <td>0.431199</td>\n",
       "      <td>-5.266930</td>\n",
       "      <td>-1.424469</td>\n",
       "      <td>-1.451953</td>\n",
       "      <td>...</td>\n",
       "      <td>-0.569739</td>\n",
       "      <td>0.669346</td>\n",
       "      <td>-0.805954</td>\n",
       "      <td>1.583042</td>\n",
       "      <td>0.215340</td>\n",
       "      <td>-0.299550</td>\n",
       "      <td>0.709472</td>\n",
       "      <td>0.876382</td>\n",
       "      <td>-0.150133</td>\n",
       "      <td>hosei</td>\n",
       "    </tr>\n",
       "    <tr>\n",
       "      <th>2</th>\n",
       "      <td>137.773342</td>\n",
       "      <td>-107.162743</td>\n",
       "      <td>18.232497</td>\n",
       "      <td>-17.116294</td>\n",
       "      <td>3.016809</td>\n",
       "      <td>-5.295234</td>\n",
       "      <td>1.716895</td>\n",
       "      <td>-1.668914</td>\n",
       "      <td>-1.917478</td>\n",
       "      <td>0.601120</td>\n",
       "      <td>...</td>\n",
       "      <td>1.715016</td>\n",
       "      <td>1.269193</td>\n",
       "      <td>-0.397373</td>\n",
       "      <td>-0.813108</td>\n",
       "      <td>-0.481468</td>\n",
       "      <td>-0.243025</td>\n",
       "      <td>-0.537644</td>\n",
       "      <td>-0.140292</td>\n",
       "      <td>0.082158</td>\n",
       "      <td>rubicunda</td>\n",
       "    </tr>\n",
       "    <tr>\n",
       "      <th>3</th>\n",
       "      <td>141.523739</td>\n",
       "      <td>-107.436626</td>\n",
       "      <td>17.448083</td>\n",
       "      <td>-16.861469</td>\n",
       "      <td>3.382894</td>\n",
       "      <td>-1.071286</td>\n",
       "      <td>1.768891</td>\n",
       "      <td>-2.735232</td>\n",
       "      <td>-1.136700</td>\n",
       "      <td>-2.706925</td>\n",
       "      <td>...</td>\n",
       "      <td>0.972070</td>\n",
       "      <td>-0.066568</td>\n",
       "      <td>0.001964</td>\n",
       "      <td>0.656327</td>\n",
       "      <td>0.586941</td>\n",
       "      <td>-0.043639</td>\n",
       "      <td>-0.518699</td>\n",
       "      <td>-1.051100</td>\n",
       "      <td>0.542354</td>\n",
       "      <td>rubicunda</td>\n",
       "    </tr>\n",
       "    <tr>\n",
       "      <th>4</th>\n",
       "      <td>142.357906</td>\n",
       "      <td>-97.195294</td>\n",
       "      <td>10.511391</td>\n",
       "      <td>-6.520641</td>\n",
       "      <td>3.555506</td>\n",
       "      <td>1.652390</td>\n",
       "      <td>-0.655919</td>\n",
       "      <td>-5.373075</td>\n",
       "      <td>-1.466841</td>\n",
       "      <td>-2.626544</td>\n",
       "      <td>...</td>\n",
       "      <td>-0.174675</td>\n",
       "      <td>0.368314</td>\n",
       "      <td>-0.700708</td>\n",
       "      <td>-0.450873</td>\n",
       "      <td>0.653851</td>\n",
       "      <td>0.718319</td>\n",
       "      <td>0.798722</td>\n",
       "      <td>-0.396749</td>\n",
       "      <td>0.844772</td>\n",
       "      <td>rubicunda</td>\n",
       "    </tr>\n",
       "  </tbody>\n",
       "</table>\n",
       "<p>5 rows × 31 columns</p>\n",
       "</div>"
      ],
      "text/plain": [
       "            0           1          2          3         4         5         6  \\\n",
       "0  133.426742 -101.627603  21.125902 -11.518251  4.621089 -1.519551  0.583410   \n",
       "1  145.344740 -108.229812  21.121390 -14.982879  2.299335 -2.354040  0.431199   \n",
       "2  137.773342 -107.162743  18.232497 -17.116294  3.016809 -5.295234  1.716895   \n",
       "3  141.523739 -107.436626  17.448083 -16.861469  3.382894 -1.071286  1.768891   \n",
       "4  142.357906  -97.195294  10.511391  -6.520641  3.555506  1.652390 -0.655919   \n",
       "\n",
       "          7         8         9  ...        21        22        23        24  \\\n",
       "0 -7.182875  1.410030  0.216411  ... -0.406979  0.607499 -1.309488  1.555190   \n",
       "1 -5.266930 -1.424469 -1.451953  ... -0.569739  0.669346 -0.805954  1.583042   \n",
       "2 -1.668914 -1.917478  0.601120  ...  1.715016  1.269193 -0.397373 -0.813108   \n",
       "3 -2.735232 -1.136700 -2.706925  ...  0.972070 -0.066568  0.001964  0.656327   \n",
       "4 -5.373075 -1.466841 -2.626544  ... -0.174675  0.368314 -0.700708 -0.450873   \n",
       "\n",
       "         25        26        27        28        29    Species  \n",
       "0 -0.301822 -0.433051  0.037651 -0.279618 -0.421040      hosei  \n",
       "1  0.215340 -0.299550  0.709472  0.876382 -0.150133      hosei  \n",
       "2 -0.481468 -0.243025 -0.537644 -0.140292  0.082158  rubicunda  \n",
       "3  0.586941 -0.043639 -0.518699 -1.051100  0.542354  rubicunda  \n",
       "4  0.653851  0.718319  0.798722 -0.396749  0.844772  rubicunda  \n",
       "\n",
       "[5 rows x 31 columns]"
      ]
     },
     "execution_count": 130,
     "metadata": {},
     "output_type": "execute_result"
    }
   ],
   "source": [
    "#read the data\n",
    "data=pd.read_csv('primates-morphology.csv')\n",
    "#display(data.head())\n",
    "#drop useless columns(Because in question is mentioned that we should separate the group belonged to species so I did not consider other features like genus)\n",
    "data=data.drop(['Sex','Abbreviation','Unnamed: 0','Age','Genus'],axis=1)\n",
    "print(data.shape) #shape of data\n",
    "data.head()"
   ]
  },
  {
   "cell_type": "code",
   "execution_count": 131,
   "metadata": {},
   "outputs": [
    {
     "data": {
      "text/plain": [
       "0"
      ]
     },
     "execution_count": 131,
     "metadata": {},
     "output_type": "execute_result"
    }
   ],
   "source": [
    "#check the null data\n",
    "data.isna().sum().sum()"
   ]
  },
  {
   "cell_type": "code",
   "execution_count": 132,
   "metadata": {},
   "outputs": [
    {
     "data": {
      "text/plain": [
       "0          float64\n",
       "1          float64\n",
       "2          float64\n",
       "3          float64\n",
       "4          float64\n",
       "5          float64\n",
       "6          float64\n",
       "7          float64\n",
       "8          float64\n",
       "9          float64\n",
       "10         float64\n",
       "11         float64\n",
       "12         float64\n",
       "13         float64\n",
       "14         float64\n",
       "15         float64\n",
       "16         float64\n",
       "17         float64\n",
       "18         float64\n",
       "19         float64\n",
       "20         float64\n",
       "21         float64\n",
       "22         float64\n",
       "23         float64\n",
       "24         float64\n",
       "25         float64\n",
       "26         float64\n",
       "27         float64\n",
       "28         float64\n",
       "29         float64\n",
       "Species     object\n",
       "dtype: object"
      ]
     },
     "execution_count": 132,
     "metadata": {},
     "output_type": "execute_result"
    }
   ],
   "source": [
    "#check the type of columns\n",
    "data.dtypes"
   ]
  },
  {
   "cell_type": "code",
   "execution_count": 133,
   "metadata": {},
   "outputs": [
    {
     "name": "stdout",
     "output_type": "stream",
     "text": [
      "25\n"
     ]
    },
    {
     "data": {
      "text/plain": [
       "cristata        18\n",
       "lar             18\n",
       "polykomos       10\n",
       "mitis           10\n",
       "badius          10\n",
       "troglodytes      9\n",
       "larvatus         9\n",
       "anubis           9\n",
       "torquatus        9\n",
       "fascicularis     8\n",
       "rubicunda        8\n",
       "gorilla          6\n",
       "albigena         6\n",
       "talapoin         5\n",
       "hosei            5\n",
       "leucophaeus      4\n",
       "patas            4\n",
       "mulatta          3\n",
       "paniscus         3\n",
       "fuscata          2\n",
       "sphinx           2\n",
       "sylvanus         2\n",
       "syndactylus      2\n",
       "pygmaeus         2\n",
       "gelada           1\n",
       "Name: Species, dtype: int64"
      ]
     },
     "execution_count": 133,
     "metadata": {},
     "output_type": "execute_result"
    }
   ],
   "source": [
    "#check the number of Species\n",
    "print(len(data['Species'].value_counts()))\n",
    "data['Species'].value_counts()"
   ]
  },
  {
   "cell_type": "markdown",
   "metadata": {},
   "source": [
    "There is no need to check the correlation because the values of columns are coordinates, not features."
   ]
  },
  {
   "cell_type": "code",
   "execution_count": 134,
   "metadata": {},
   "outputs": [
    {
     "data": {
      "text/plain": [
       "4     2.358456\n",
       "1     1.272854\n",
       "14    1.267799\n",
       "23    0.782396\n",
       "dtype: float64"
      ]
     },
     "execution_count": 134,
     "metadata": {},
     "output_type": "execute_result"
    }
   ],
   "source": [
    "#Check the skewness but in this case, there is no need because as Tsjerk told , the data is preprocessed and normalized before. So there is no need for any normalization or standardization.\n",
    "# .skew 0: no skew, + right skew, - left skew, look for above .75 \n",
    "#because the counts of skewed data are not so much,I ignored.\n",
    "skew_columns = (data\n",
    "                .skew()\n",
    "                .sort_values(ascending=False))\n",
    "\n",
    "skew_columns = skew_columns.loc[skew_columns > 0.75]\n",
    "skew_columns"
   ]
  },
  {
   "cell_type": "code",
   "execution_count": 135,
   "metadata": {},
   "outputs": [
    {
     "data": {
      "text/plain": [
       "array([[ 1.33426742e+02, -1.01627603e+02,  2.11259023e+01, ...,\n",
       "         3.76507541e-02, -2.79617731e-01, -4.21039717e-01],\n",
       "       [ 1.45344740e+02, -1.08229812e+02,  2.11213897e+01, ...,\n",
       "         7.09471824e-01,  8.76381939e-01, -1.50132702e-01],\n",
       "       [ 1.37773342e+02, -1.07162743e+02,  1.82324974e+01, ...,\n",
       "        -5.37644241e-01, -1.40291682e-01,  8.21576815e-02],\n",
       "       ...,\n",
       "       [-9.02041041e+01, -4.09859823e+01,  8.32862497e+01, ...,\n",
       "        -1.58109640e-01, -4.16190829e-01,  1.60474491e-01],\n",
       "       [-9.02482021e+01, -5.01111800e+01,  7.72850865e+01, ...,\n",
       "         8.01685840e-02, -2.35063369e-01,  3.17109973e-01],\n",
       "       [-8.86634478e+01, -4.38353821e+01,  7.46811974e+01, ...,\n",
       "         6.08619784e-02, -2.97478831e-01,  7.23834817e-01]])"
      ]
     },
     "execution_count": 135,
     "metadata": {},
     "output_type": "execute_result"
    }
   ],
   "source": [
    "# Scaling the dataset\n",
    "datas = pd.DataFrame(data.iloc[:,:30])\n",
    "datas.columns = list(data.iloc[:,:30].columns)\n",
    "datas['Species'] = data['Species']\n",
    "# Creating the high dimensional feature space X\n",
    "data_drop = datas.drop('Species',axis=1)\n",
    "X = data_drop.values\n",
    "X"
   ]
  },
  {
   "cell_type": "markdown",
   "metadata": {},
   "source": [
    "The elbow method and the silhouette coefficient are two methods of selecting the optimum number of clusters.\n",
    "While the interpretation of an elbow plot is rather subjective, \n",
    "both the silhouette coefficient and elbow method can determine the number of clusters precisely."
   ]
  },
  {
   "cell_type": "code",
   "execution_count": 136,
   "metadata": {},
   "outputs": [
    {
     "data": {
      "text/plain": [
       "Text(0, 0.5, 'Inertia')"
      ]
     },
     "execution_count": 136,
     "metadata": {},
     "output_type": "execute_result"
    },
    {
     "data": {
      "image/png": "[encoded data removed]",
      "text/plain": [
       "<Figure size 432x288 with 1 Axes>"
      ]
     },
     "metadata": {
      "needs_background": "light"
     },
     "output_type": "display_data"
    }
   ],
   "source": [
    "#Elbow Method\n",
    "inertia = []\n",
    "warnings.filterwarnings('ignore')\n",
    "list_num_clusters = list(range(1,26))\n",
    "for num_clusters in list_num_clusters:\n",
    "    km = KMeans(n_clusters=num_clusters)\n",
    "    km.fit(X)\n",
    "    inertia.append(km.inertia_)\n",
    "    \n",
    "plt.plot(list_num_clusters,inertia)\n",
    "plt.scatter(list_num_clusters,inertia)\n",
    "plt.xlabel('Number of Clusters')\n",
    "plt.ylabel('Inertia')"
   ]
  },
  {
   "cell_type": "markdown",
   "metadata": {},
   "source": [
    "As you can see there is a small elbow on 2 but the good one is at 8,9 or 10, but I need to check more because maybe the elbow at 2 is made because of outlier, so I try to do silhouette."
   ]
  },
  {
   "cell_type": "code",
   "execution_count": 137,
   "metadata": {},
   "outputs": [
    {
     "data": {
      "image/png": "[encoded data removed]",
      "text/plain": [
       "<Figure size 720x360 with 1 Axes>"
      ]
     },
     "metadata": {
      "needs_background": "light"
     },
     "output_type": "display_data"
    }
   ],
   "source": [
    "#silhouette coefficient\n",
    "silhouette_score = []\n",
    "list_num_clusters = list(range(3,15))\n",
    "for num_clusters in list_num_clusters:\n",
    "    km = KMeans(n_clusters=num_clusters)\n",
    "    km.fit(X)\n",
    "    cluster_labels = km.labels_\n",
    "    # silhouette score\n",
    "    silhouette_score.append(metrics.silhouette_score(X, cluster_labels))\n",
    "plt.figure(figsize=(10,5))\n",
    "plt.plot(list_num_clusters,silhouette_score,'bx-')\n",
    "plt.xlabel('Values of K') \n",
    "plt.ylabel('Silhouette score') \n",
    "plt.title('Silhouette analysis For Optimal k')\n",
    "plt.show()"
   ]
  },
  {
   "cell_type": "code",
   "execution_count": 138,
   "metadata": {},
   "outputs": [
    {
     "data": {
      "text/plain": [
       "{3: 0.3696566976187227,\n",
       " 4: 0.4490608118974952,\n",
       " 5: 0.4840795663958202,\n",
       " 6: 0.5358127686096645,\n",
       " 7: 0.5508011038223858,\n",
       " 8: 0.5686666279107561,\n",
       " 9: 0.610619683747988,\n",
       " 10: 0.612687628735255,\n",
       " 11: 0.5908729694306285,\n",
       " 12: 0.5688158866724042,\n",
       " 13: 0.5610763691617779,\n",
       " 14: 0.5666922769216142}"
      ]
     },
     "execution_count": 138,
     "metadata": {},
     "output_type": "execute_result"
    }
   ],
   "source": [
    "#create a dictionary for compare the score of silhouette\n",
    "dic_silo={list_num_clusters[i]:silhouette_score[i] for i in range(len(list_num_clusters))}\n",
    "dic_silo\n",
    "# we can see that number 10 has the best score in silhouette "
   ]
  },
  {
   "cell_type": "markdown",
   "metadata": {},
   "source": [
    "You can see that based on the plot we have good points at 6,9 and 10 , and based on score 10 is the best one. So based on elbow and silhouette methods, I chose 10 for number of cluster in kmeans."
   ]
  },
  {
   "cell_type": "code",
   "execution_count": 139,
   "metadata": {},
   "outputs": [
    {
     "data": {
      "image/png": "[encoded data removed]",
      "text/plain": [
       "<Figure size 432x288 with 1 Axes>"
      ]
     },
     "metadata": {
      "needs_background": "light"
     },
     "output_type": "display_data"
    }
   ],
   "source": [
    "# K-means clusterin with 10 cluster\n",
    "num_clusters = 10\n",
    "km = KMeans(n_clusters=num_clusters).fit(X)\n",
    "km_labels = km.fit_predict(X)\n",
    "#plotting the results:\n",
    "for i in np.unique(km_labels):\n",
    "    plt.scatter(X[km_labels == i , 0] , X[km_labels == i , 1] , label = i)\n",
    "plt.legend()\n",
    "plt.title(\"Number of clusters: %d\" % len(np.unique(km_labels)))\n",
    "plt.show()"
   ]
  },
  {
   "cell_type": "code",
   "execution_count": 140,
   "metadata": {},
   "outputs": [
    {
     "data": {
      "application/vnd.plotly.v1+json": {
       "config": {
        "plotlyServerURL": "https://plot.ly"
       },
       "data": [
        {
         "marker": {
          "color": [
           3,
           3,
           3,
           3,
           3,
           3,
           3,
           3,
           3,
           3,
           3,
           3,
           3,
           3,
           3,
           3,
           3,
           3,
           3,
           3,
           9,
           9,
           9,
           9,
           3,
           9,
           0,
           0,
           0,
           0,
           0,
           0,
           0,
           0,
           0,
           0,
           0,
           0,
           0,
           0,
           0,
           0,
           0,
           0,
           2,
           2,
           2,
           2,
           2,
           2,
           2,
           2,
           2,
           2,
           2,
           2,
           2,
           2,
           2,
           2,
           2,
           2,
           2,
           1,
           1,
           1,
           1,
           1,
           1,
           1,
           1,
           1,
           1,
           1,
           1,
           1,
           1,
           1,
           1,
           1,
           1,
           9,
           9,
           1,
           1,
           1,
           9,
           1,
           9,
           1,
           1,
           1,
           8,
           8,
           8,
           7,
           5,
           5,
           5,
           5,
           5,
           5,
           5,
           5,
           5,
           5,
           1,
           1,
           1,
           5,
           5,
           5,
           5,
           5,
           2,
           2,
           2,
           2,
           2,
           2,
           2,
           2,
           2,
           2,
           2,
           2,
           2,
           2,
           2,
           2,
           4,
           4,
           4,
           4,
           4,
           4,
           4,
           4,
           4,
           4,
           4,
           4,
           4,
           4,
           4,
           4,
           4,
           4,
           4,
           6,
           6,
           6,
           6,
           6,
           6,
           6,
           6,
           6,
           6,
           6,
           6,
           6,
           6,
           6,
           6
          ],
          "line": {
           "color": "black",
           "width": 3
          },
          "size": 5
         },
         "mode": "markers",
         "type": "scatter3d",
         "x": [
          133.4267419855418,
          145.34474037656068,
          137.77334150718653,
          141.52373890911144,
          142.35790641437137,
          127.19067431650474,
          122.90060659096784,
          129.8202656522746,
          136.30583860379585,
          139.9163742358789,
          146.05925984567153,
          140.64002212465533,
          150.3805550347973,
          141.78101075377904,
          152.28577142016343,
          155.88784434699522,
          153.08338855845332,
          167.55230624265482,
          165.318888986833,
          163.95143535857295,
          185.5928037605752,
          163.74119628956572,
          182.39172555046105,
          181.5175604817452,
          148.08634804161443,
          150.9620431887193,
          -66.90371311430869,
          -58.76755937860728,
          -52.60549770217138,
          -52.76166586199031,
          -51.87410771676387,
          -60.98187198616536,
          -57.18329361994413,
          -51.07374495557309,
          -41.11652182029143,
          -41.69198404815788,
          -49.82575225380407,
          -38.58444704595202,
          -36.19272090241473,
          -54.69902674809273,
          -34.01121750013084,
          -38.256612953437966,
          -49.95390261670295,
          -37.33088730410485,
          -12.910069344954511,
          -6.653358295095674,
          -4.9946700703010505,
          7.227781912402957,
          -13.548021058025368,
          -3.28525721100947,
          -18.41071761899985,
          -5.685526948053234,
          -0.2658600225154595,
          -9.026813167918696,
          0.0510260530786877,
          -7.278504912878516,
          -3.063911165949559,
          -23.170549216539165,
          5.220218494588059,
          -15.843784210139829,
          10.113571670482273,
          6.720144539312518,
          5.167994038013787,
          55.36023397065801,
          61.762933773802295,
          71.5571561885487,
          74.66140660454754,
          71.8126079627286,
          70.15965100094667,
          77.62071478899968,
          89.18799344379852,
          74.6607049652075,
          100.93005467848326,
          82.72224753936644,
          92.70001207624144,
          89.04513855282899,
          88.54327021283781,
          90.43142689367296,
          104.60506902027326,
          104.75882527067311,
          113.16617972838556,
          131.74483540407329,
          155.50379657924145,
          84.72518172475806,
          86.69904032176257,
          95.5222706852786,
          108.2561138428856,
          89.48099079185126,
          136.92460498045574,
          107.32146027452916,
          96.27230009074484,
          100.14475590475897,
          -133.47676327692923,
          -125.15458359997773,
          -150.64694250208092,
          192.17045038187095,
          -43.16723048242108,
          -67.36706184513903,
          -40.97743264847893,
          -13.609721930878242,
          -3.227945073477031,
          -20.43542920159841,
          -12.22815531056134,
          -10.162004494082618,
          -13.149871287521082,
          1.3326547925946437,
          29.008889685500844,
          34.83284554649723,
          51.239039325872376,
          -13.327249246473166,
          -16.613802898878873,
          -16.92564363948932,
          -6.73395708214847,
          -11.689812671435591,
          -4.239999656524125,
          -25.66567390876292,
          -14.00600821330863,
          -3.9035196138146633,
          12.847191867289316,
          2.985516223339448,
          13.884597371355024,
          4.875926415574327,
          22.85128833599986,
          15.380739205310212,
          10.057329567669976,
          25.435990919297524,
          21.10313026395591,
          3.6663279051130497,
          -17.97172344665311,
          -20.18052838011068,
          -141.6123399373962,
          -148.97886615142536,
          -128.93811246885173,
          -125.17327542352896,
          -104.24762528820928,
          -138.09747306578615,
          -122.39329321043456,
          -100.5239550213812,
          -129.26139686343402,
          -154.54854158221892,
          -145.48272473839518,
          -153.33479934041492,
          -145.9276609162763,
          -191.39223300418212,
          -201.591249376235,
          -179.19344055176023,
          -193.2972565116991,
          -184.05308836458707,
          -183.62866283457456,
          -134.42412383076746,
          -102.09132937901312,
          -98.13065346253732,
          -90.97016592072828,
          -92.19642895138608,
          -94.51813740554364,
          -93.4913531126709,
          -89.31781480542361,
          -85.22076896838024,
          -94.028972538508,
          -94.05083192464495,
          -91.0854619840234,
          -91.4893541663336,
          -90.20410407143537,
          -90.248202114112,
          -88.66344783396184
         ],
         "y": [
          -101.62760328565103,
          -108.22981151468336,
          -107.16274290993142,
          -107.43662597314814,
          -97.19529365413574,
          -98.58805211093502,
          -93.391053076023,
          -105.34503051491492,
          -103.01208875430676,
          -101.67229234165409,
          -105.6587199106282,
          -105.60349212403962,
          -99.95653412105898,
          -106.46352168297476,
          -99.04091267382124,
          -82.90726131912284,
          -85.73574202474352,
          -99.65339799683412,
          -87.38936398646624,
          -90.26458041258968,
          41.7672416037052,
          50.0973815992113,
          45.93501293658009,
          53.4387864838965,
          -111.6591650376332,
          55.68314301077409,
          -78.91435324944126,
          -78.01196120778594,
          -82.78157437965393,
          -81.20958858820367,
          -86.12291552902076,
          -78.66629128362717,
          -82.21495071870196,
          -87.26782534363535,
          -90.4159965493574,
          -86.00085284783344,
          -94.99922479293396,
          -87.54249388480933,
          -93.09459166574676,
          -99.57776209793307,
          -84.94765793682788,
          -93.0394062114554,
          -89.96336934376426,
          -90.57906360136896,
          24.868759853743413,
          33.43980367314532,
          17.828203727518822,
          16.538337954913885,
          48.42032282564888,
          47.72997371183193,
          48.239080210725554,
          43.74714970398369,
          48.37329345293298,
          36.5691410646857,
          48.22138942762737,
          41.76847872091184,
          26.824835354422223,
          20.476981448139373,
          32.452952993170044,
          18.343280614030707,
          36.15715081036168,
          28.20028514529138,
          23.21294961363886,
          71.6096866445385,
          69.01949357465224,
          63.34058688044814,
          65.24493283931216,
          60.300911412258806,
          67.35772686464139,
          56.54711014333786,
          55.10719129578248,
          57.77298906130815,
          52.497101496155615,
          43.90466590491408,
          57.14167288011055,
          48.7278227747256,
          49.372888503015744,
          40.25700320926085,
          50.805523178749645,
          38.0220451599572,
          37.137411308003095,
          40.64895315514971,
          28.05294046342921,
          44.76775307657812,
          25.574668500722492,
          21.189361181698608,
          21.402454733997526,
          25.78497942591876,
          18.549812866570083,
          16.235562243637848,
          25.91636982520185,
          23.046318017479507,
          175.354693220593,
          192.7011417608537,
          185.6541966913165,
          433.4443163620461,
          49.101924693763245,
          29.71690128217235,
          18.240940302106477,
          22.19089786231077,
          1.870818104233935,
          9.32682938249724,
          23.612404974488932,
          30.745510013398302,
          -0.636324066489794,
          53.2545394088645,
          47.0149565801932,
          45.51484956295181,
          42.63313426781151,
          52.51305555008354,
          50.1509722348797,
          53.41455258374352,
          51.94823743300171,
          49.77851038463939,
          26.39436600853329,
          33.110623312580465,
          44.464810793160574,
          38.60407819015338,
          31.28955583977821,
          31.763585432988226,
          26.521829333387736,
          33.51451224278225,
          35.17962060347589,
          27.53066258830944,
          29.56217651375485,
          31.471145567985968,
          23.49448996684276,
          -6.699216533806911,
          1.4745403197868894,
          -5.791192127152626,
          14.57678257102886,
          6.502582658306527,
          -1.4870950247743422,
          3.200604626563423,
          0.2758031547825056,
          8.074878635839191,
          14.484073582873116,
          -3.2768935979163323,
          3.4505074802231555,
          12.66222579772852,
          14.64630060703925,
          30.88534858978136,
          14.561417788621243,
          -11.810132914532248,
          8.513179596842496,
          -4.444748831562071,
          -28.259422667723893,
          -13.015897588161144,
          13.495842714072886,
          57.51673401992239,
          -15.36645930317266,
          -16.075601860758113,
          -20.061031070312755,
          -19.04783927402823,
          -23.35364956870039,
          -21.01974786833541,
          -22.00347391717916,
          -25.975018534757066,
          -34.81777029392721,
          -44.5423768468887,
          -46.16063798067431,
          -39.6141648057337,
          -40.985982281736135,
          -50.11118004962498,
          -43.83538210292534
         ],
         "z": [
          21.125902286593096,
          21.121389669851503,
          18.232497418898276,
          17.448082822011838,
          10.511391033751456,
          16.76162669782065,
          16.829500465251762,
          13.053786593798383,
          8.791377393870313,
          10.385639452751162,
          2.6597524538719406,
          14.4448215619892,
          7.32534778251213,
          10.854660841133104,
          -4.276320501693828,
          -5.148445150757813,
          -3.2551752719781204,
          -13.551778843004612,
          -15.970493451149148,
          -10.711943549652368,
          -39.599839725644735,
          -39.514340189073685,
          -43.67509420435399,
          -37.86657381121091,
          2.2180722359387515,
          -23.954063286776243,
          7.942456250065256,
          -0.6839982390844707,
          3.9770527143442056,
          -0.7692595594274905,
          1.9904493169962847,
          6.154649148954566,
          -2.0902437677229493,
          -5.2958196186618425,
          3.782581052838727,
          -22.91033904795842,
          -20.671104206923424,
          -10.54300535955619,
          -5.339709065597833,
          -6.52188442558021,
          -14.302790006204347,
          -14.02661091348183,
          -4.850546847761422,
          -8.195299007502852,
          -38.14258377044617,
          -45.98126079429608,
          -47.71114580521251,
          -53.21130417784256,
          -55.3874225582116,
          -59.3375496301877,
          -47.34314728520503,
          -55.4449098340594,
          -65.66998213440492,
          -49.291298945753645,
          -64.89909003547446,
          -57.57158671035752,
          -52.5203135358536,
          -53.81224203081353,
          -72.53919267269295,
          -54.20773591559927,
          -69.64070524054227,
          -71.01765323421255,
          -57.14730400428238,
          62.753011583390695,
          40.38009754055681,
          45.78877041678683,
          45.37697954395833,
          40.09497984873213,
          39.03037861513072,
          32.80515663699438,
          26.84335944305233,
          21.6043665477102,
          20.763292044614275,
          26.403157500444596,
          17.37349327074183,
          22.99629114831434,
          20.06085308060785,
          11.507953935237206,
          8.968010523261777,
          9.524606157275448,
          4.012867762168953,
          -5.963440618107835,
          -24.461278498357157,
          -2.0159322094130623,
          9.263812570528591,
          -4.786692400002075,
          -12.13648134553636,
          -7.738912607088364,
          -31.24987961739996,
          2.297468168573394,
          0.8793371391769739,
          -5.449423330148008,
          118.57899399698634,
          131.15914459607302,
          108.91162274834365,
          34.807177963170915,
          91.86258704754847,
          100.93753573488266,
          102.78121431113064,
          71.19231594456058,
          51.3809222904373,
          72.02450624950335,
          69.49073357606207,
          62.22210047080333,
          58.9040012581226,
          39.90779905665456,
          31.02538614327177,
          21.22822747350161,
          10.281424538079987,
          43.92244443706333,
          48.82379663392164,
          45.11645863819992,
          39.60242032213272,
          32.98697361006796,
          -37.53272539823806,
          -22.7148084586578,
          -28.007343151753748,
          -35.52728508944967,
          -55.723713673694746,
          -42.03755164838714,
          -52.10417564124444,
          -45.19875805476494,
          -57.40290352303475,
          -46.377165877247045,
          -45.04428272593144,
          -60.28978579601255,
          -59.09915556400575,
          -33.69530671390904,
          -29.653823866692896,
          -34.89335454238067,
          -69.58490217524482,
          -66.30561317650975,
          -89.51450129674676,
          -94.77888049194534,
          -89.08584999024802,
          -82.88424513712215,
          -70.1193518985706,
          -87.85374764070234,
          -70.65893384769672,
          -89.27673857875145,
          -78.02488992440574,
          -90.48849545259272,
          -96.27684361608186,
          -41.51177800780162,
          -66.0340476514226,
          -60.99703694900755,
          -56.91778517220424,
          -114.98683537128548,
          -101.69762878442432,
          142.16111921072618,
          117.5241356422291,
          119.42060610794891,
          120.91638533851088,
          106.98100914199183,
          104.28089230451174,
          106.38689986692704,
          94.84326159997548,
          83.05140245320139,
          92.7316722373382,
          91.02340832373628,
          86.48865428781289,
          87.43095128161339,
          83.28624967523152,
          77.28508646510731,
          74.68119744694103
         ]
        }
       ],
       "layout": {
        "height": 500,
        "margin": {
         "l": 0,
         "r": 0
        },
        "template": {
         "data": {
          "bar": [
           {
            "error_x": {
             "color": "#2a3f5f"
            },
            "error_y": {
             "color": "#2a3f5f"
            },
            "marker": {
             "line": {
              "color": "#E5ECF6",
              "width": 0.5
             },
             "pattern": {
              "fillmode": "overlay",
              "size": 10,
              "solidity": 0.2
             }
            },
            "type": "bar"
           }
          ],
          "barpolar": [
           {
            "marker": {
             "line": {
              "color": "#E5ECF6",
              "width": 0.5
             },
             "pattern": {
              "fillmode": "overlay",
              "size": 10,
              "solidity": 0.2
             }
            },
            "type": "barpolar"
           }
          ],
          "carpet": [
           {
            "aaxis": {
             "endlinecolor": "#2a3f5f",
             "gridcolor": "white",
             "linecolor": "white",
             "minorgridcolor": "white",
             "startlinecolor": "#2a3f5f"
            },
            "baxis": {
             "endlinecolor": "#2a3f5f",
             "gridcolor": "white",
             "linecolor": "white",
             "minorgridcolor": "white",
             "startlinecolor": "#2a3f5f"
            },
            "type": "carpet"
           }
          ],
          "choropleth": [
           {
            "colorbar": {
             "outlinewidth": 0,
             "ticks": ""
            },
            "type": "choropleth"
           }
          ],
          "contour": [
           {
            "colorbar": {
             "outlinewidth": 0,
             "ticks": ""
            },
            "colorscale": [
             [
              0,
              "#0d0887"
             ],
             [
              0.1111111111111111,
              "#46039f"
             ],
             [
              0.2222222222222222,
              "#7201a8"
             ],
             [
              0.3333333333333333,
              "#9c179e"
             ],
             [
              0.4444444444444444,
              "#bd3786"
             ],
             [
              0.5555555555555556,
              "#d8576b"
             ],
             [
              0.6666666666666666,
              "#ed7953"
             ],
             [
              0.7777777777777778,
              "#fb9f3a"
             ],
             [
              0.8888888888888888,
              "#fdca26"
             ],
             [
              1,
              "#f0f921"
             ]
            ],
            "type": "contour"
           }
          ],
          "contourcarpet": [
           {
            "colorbar": {
             "outlinewidth": 0,
             "ticks": ""
            },
            "type": "contourcarpet"
           }
          ],
          "heatmap": [
           {
            "colorbar": {
             "outlinewidth": 0,
             "ticks": ""
            },
            "colorscale": [
             [
              0,
              "#0d0887"
             ],
             [
              0.1111111111111111,
              "#46039f"
             ],
             [
              0.2222222222222222,
              "#7201a8"
             ],
             [
              0.3333333333333333,
              "#9c179e"
             ],
             [
              0.4444444444444444,
              "#bd3786"
             ],
             [
              0.5555555555555556,
              "#d8576b"
             ],
             [
              0.6666666666666666,
              "#ed7953"
             ],
             [
              0.7777777777777778,
              "#fb9f3a"
             ],
             [
              0.8888888888888888,
              "#fdca26"
             ],
             [
              1,
              "#f0f921"
             ]
            ],
            "type": "heatmap"
           }
          ],
          "heatmapgl": [
           {
            "colorbar": {
             "outlinewidth": 0,
             "ticks": ""
            },
            "colorscale": [
             [
              0,
              "#0d0887"
             ],
             [
              0.1111111111111111,
              "#46039f"
             ],
             [
              0.2222222222222222,
              "#7201a8"
             ],
             [
              0.3333333333333333,
              "#9c179e"
             ],
             [
              0.4444444444444444,
              "#bd3786"
             ],
             [
              0.5555555555555556,
              "#d8576b"
             ],
             [
              0.6666666666666666,
              "#ed7953"
             ],
             [
              0.7777777777777778,
              "#fb9f3a"
             ],
             [
              0.8888888888888888,
              "#fdca26"
             ],
             [
              1,
              "#f0f921"
             ]
            ],
            "type": "heatmapgl"
           }
          ],
          "histogram": [
           {
            "marker": {
             "pattern": {
              "fillmode": "overlay",
              "size": 10,
              "solidity": 0.2
             }
            },
            "type": "histogram"
           }
          ],
          "histogram2d": [
           {
            "colorbar": {
             "outlinewidth": 0,
             "ticks": ""
            },
            "colorscale": [
             [
              0,
              "#0d0887"
             ],
             [
              0.1111111111111111,
              "#46039f"
             ],
             [
              0.2222222222222222,
              "#7201a8"
             ],
             [
              0.3333333333333333,
              "#9c179e"
             ],
             [
              0.4444444444444444,
              "#bd3786"
             ],
             [
              0.5555555555555556,
              "#d8576b"
             ],
             [
              0.6666666666666666,
              "#ed7953"
             ],
             [
              0.7777777777777778,
              "#fb9f3a"
             ],
             [
              0.8888888888888888,
              "#fdca26"
             ],
             [
              1,
              "#f0f921"
             ]
            ],
            "type": "histogram2d"
           }
          ],
          "histogram2dcontour": [
           {
            "colorbar": {
             "outlinewidth": 0,
             "ticks": ""
            },
            "colorscale": [
             [
              0,
              "#0d0887"
             ],
             [
              0.1111111111111111,
              "#46039f"
             ],
             [
              0.2222222222222222,
              "#7201a8"
             ],
             [
              0.3333333333333333,
              "#9c179e"
             ],
             [
              0.4444444444444444,
              "#bd3786"
             ],
             [
              0.5555555555555556,
              "#d8576b"
             ],
             [
              0.6666666666666666,
              "#ed7953"
             ],
             [
              0.7777777777777778,
              "#fb9f3a"
             ],
             [
              0.8888888888888888,
              "#fdca26"
             ],
             [
              1,
              "#f0f921"
             ]
            ],
            "type": "histogram2dcontour"
           }
          ],
          "mesh3d": [
           {
            "colorbar": {
             "outlinewidth": 0,
             "ticks": ""
            },
            "type": "mesh3d"
           }
          ],
          "parcoords": [
           {
            "line": {
             "colorbar": {
              "outlinewidth": 0,
              "ticks": ""
             }
            },
            "type": "parcoords"
           }
          ],
          "pie": [
           {
            "automargin": true,
            "type": "pie"
           }
          ],
          "scatter": [
           {
            "fillpattern": {
             "fillmode": "overlay",
             "size": 10,
             "solidity": 0.2
            },
            "type": "scatter"
           }
          ],
          "scatter3d": [
           {
            "line": {
             "colorbar": {
              "outlinewidth": 0,
              "ticks": ""
             }
            },
            "marker": {
             "colorbar": {
              "outlinewidth": 0,
              "ticks": ""
             }
            },
            "type": "scatter3d"
           }
          ],
          "scattercarpet": [
           {
            "marker": {
             "colorbar": {
              "outlinewidth": 0,
              "ticks": ""
             }
            },
            "type": "scattercarpet"
           }
          ],
          "scattergeo": [
           {
            "marker": {
             "colorbar": {
              "outlinewidth": 0,
              "ticks": ""
             }
            },
            "type": "scattergeo"
           }
          ],
          "scattergl": [
           {
            "marker": {
             "colorbar": {
              "outlinewidth": 0,
              "ticks": ""
             }
            },
            "type": "scattergl"
           }
          ],
          "scattermapbox": [
           {
            "marker": {
             "colorbar": {
              "outlinewidth": 0,
              "ticks": ""
             }
            },
            "type": "scattermapbox"
           }
          ],
          "scatterpolar": [
           {
            "marker": {
             "colorbar": {
              "outlinewidth": 0,
              "ticks": ""
             }
            },
            "type": "scatterpolar"
           }
          ],
          "scatterpolargl": [
           {
            "marker": {
             "colorbar": {
              "outlinewidth": 0,
              "ticks": ""
             }
            },
            "type": "scatterpolargl"
           }
          ],
          "scatterternary": [
           {
            "marker": {
             "colorbar": {
              "outlinewidth": 0,
              "ticks": ""
             }
            },
            "type": "scatterternary"
           }
          ],
          "surface": [
           {
            "colorbar": {
             "outlinewidth": 0,
             "ticks": ""
            },
            "colorscale": [
             [
              0,
              "#0d0887"
             ],
             [
              0.1111111111111111,
              "#46039f"
             ],
             [
              0.2222222222222222,
              "#7201a8"
             ],
             [
              0.3333333333333333,
              "#9c179e"
             ],
             [
              0.4444444444444444,
              "#bd3786"
             ],
             [
              0.5555555555555556,
              "#d8576b"
             ],
             [
              0.6666666666666666,
              "#ed7953"
             ],
             [
              0.7777777777777778,
              "#fb9f3a"
             ],
             [
              0.8888888888888888,
              "#fdca26"
             ],
             [
              1,
              "#f0f921"
             ]
            ],
            "type": "surface"
           }
          ],
          "table": [
           {
            "cells": {
             "fill": {
              "color": "#EBF0F8"
             },
             "line": {
              "color": "white"
             }
            },
            "header": {
             "fill": {
              "color": "#C8D4E3"
             },
             "line": {
              "color": "white"
             }
            },
            "type": "table"
           }
          ]
         },
         "layout": {
          "annotationdefaults": {
           "arrowcolor": "#2a3f5f",
           "arrowhead": 0,
           "arrowwidth": 1
          },
          "autotypenumbers": "strict",
          "coloraxis": {
           "colorbar": {
            "outlinewidth": 0,
            "ticks": ""
           }
          },
          "colorscale": {
           "diverging": [
            [
             0,
             "#8e0152"
            ],
            [
             0.1,
             "#c51b7d"
            ],
            [
             0.2,
             "#de77ae"
            ],
            [
             0.3,
             "#f1b6da"
            ],
            [
             0.4,
             "#fde0ef"
            ],
            [
             0.5,
             "#f7f7f7"
            ],
            [
             0.6,
             "#e6f5d0"
            ],
            [
             0.7,
             "#b8e186"
            ],
            [
             0.8,
             "#7fbc41"
            ],
            [
             0.9,
             "#4d9221"
            ],
            [
             1,
             "#276419"
            ]
           ],
           "sequential": [
            [
             0,
             "#0d0887"
            ],
            [
             0.1111111111111111,
             "#46039f"
            ],
            [
             0.2222222222222222,
             "#7201a8"
            ],
            [
             0.3333333333333333,
             "#9c179e"
            ],
            [
             0.4444444444444444,
             "#bd3786"
            ],
            [
             0.5555555555555556,
             "#d8576b"
            ],
            [
             0.6666666666666666,
             "#ed7953"
            ],
            [
             0.7777777777777778,
             "#fb9f3a"
            ],
            [
             0.8888888888888888,
             "#fdca26"
            ],
            [
             1,
             "#f0f921"
            ]
           ],
           "sequentialminus": [
            [
             0,
             "#0d0887"
            ],
            [
             0.1111111111111111,
             "#46039f"
            ],
            [
             0.2222222222222222,
             "#7201a8"
            ],
            [
             0.3333333333333333,
             "#9c179e"
            ],
            [
             0.4444444444444444,
             "#bd3786"
            ],
            [
             0.5555555555555556,
             "#d8576b"
            ],
            [
             0.6666666666666666,
             "#ed7953"
            ],
            [
             0.7777777777777778,
             "#fb9f3a"
            ],
            [
             0.8888888888888888,
             "#fdca26"
            ],
            [
             1,
             "#f0f921"
            ]
           ]
          },
          "colorway": [
           "#636efa",
           "#EF553B",
           "#00cc96",
           "#ab63fa",
           "#FFA15A",
           "#19d3f3",
           "#FF6692",
           "#B6E880",
           "#FF97FF",
           "#FECB52"
          ],
          "font": {
           "color": "#2a3f5f"
          },
          "geo": {
           "bgcolor": "white",
           "lakecolor": "white",
           "landcolor": "#E5ECF6",
           "showlakes": true,
           "showland": true,
           "subunitcolor": "white"
          },
          "hoverlabel": {
           "align": "left"
          },
          "hovermode": "closest",
          "mapbox": {
           "style": "light"
          },
          "paper_bgcolor": "white",
          "plot_bgcolor": "#E5ECF6",
          "polar": {
           "angularaxis": {
            "gridcolor": "white",
            "linecolor": "white",
            "ticks": ""
           },
           "bgcolor": "#E5ECF6",
           "radialaxis": {
            "gridcolor": "white",
            "linecolor": "white",
            "ticks": ""
           }
          },
          "scene": {
           "xaxis": {
            "backgroundcolor": "#E5ECF6",
            "gridcolor": "white",
            "gridwidth": 2,
            "linecolor": "white",
            "showbackground": true,
            "ticks": "",
            "zerolinecolor": "white"
           },
           "yaxis": {
            "backgroundcolor": "#E5ECF6",
            "gridcolor": "white",
            "gridwidth": 2,
            "linecolor": "white",
            "showbackground": true,
            "ticks": "",
            "zerolinecolor": "white"
           },
           "zaxis": {
            "backgroundcolor": "#E5ECF6",
            "gridcolor": "white",
            "gridwidth": 2,
            "linecolor": "white",
            "showbackground": true,
            "ticks": "",
            "zerolinecolor": "white"
           }
          },
          "shapedefaults": {
           "line": {
            "color": "#2a3f5f"
           }
          },
          "ternary": {
           "aaxis": {
            "gridcolor": "white",
            "linecolor": "white",
            "ticks": ""
           },
           "baxis": {
            "gridcolor": "white",
            "linecolor": "white",
            "ticks": ""
           },
           "bgcolor": "#E5ECF6",
           "caxis": {
            "gridcolor": "white",
            "linecolor": "white",
            "ticks": ""
           }
          },
          "title": {
           "x": 0.05
          },
          "xaxis": {
           "automargin": true,
           "gridcolor": "white",
           "linecolor": "white",
           "ticks": "",
           "title": {
            "standoff": 15
           },
           "zerolinecolor": "white",
           "zerolinewidth": 2
          },
          "yaxis": {
           "automargin": true,
           "gridcolor": "white",
           "linecolor": "white",
           "ticks": "",
           "title": {
            "standoff": 15
           },
           "zerolinecolor": "white",
           "zerolinewidth": 2
          }
         }
        },
        "width": 500
       }
      }
     },
     "metadata": {},
     "output_type": "display_data"
    },
    {
     "data": {
      "text/plain": [
       "<Figure size 1080x1080 with 0 Axes>"
      ]
     },
     "metadata": {},
     "output_type": "display_data"
    }
   ],
   "source": [
    "# 3d scatterplot of k-means using plotly\n",
    "fig = plt.figure(figsize = (15,15))\n",
    "trace = go.Scatter3d(x=X[:, 0], y=X[:, 1], z=X[:, 2], mode='markers',marker=dict(color = km_labels, size= 5, line=dict(color= 'black',width = 3)))\n",
    "layout = go.Layout(margin=dict(l=0,r=0),height = 500,width = 500)\n",
    "data = [trace]\n",
    "fig = go.Figure(data = data, layout = layout)\n",
    "fig.show()\n",
    "#if you turn the 3d plot you can see the clustering is so good."
   ]
  },
  {
   "cell_type": "markdown",
   "metadata": {},
   "source": [
    "I try to use mean-shift methods to check the number of clusters."
   ]
  },
  {
   "cell_type": "code",
   "execution_count": 141,
   "metadata": {},
   "outputs": [
    {
     "data": {
      "image/png": "[encoded data removed]",
      "text/plain": [
       "<Figure size 432x288 with 1 Axes>"
      ]
     },
     "metadata": {
      "needs_background": "light"
     },
     "output_type": "display_data"
    },
    {
     "data": {
      "image/png": "[encoded data removed]",
      "text/plain": [
       "<Figure size 432x288 with 1 Axes>"
      ]
     },
     "metadata": {
      "needs_background": "light"
     },
     "output_type": "display_data"
    }
   ],
   "source": [
    "#Mean Shift\n",
    "ms = MeanShift().fit(X)\n",
    "ms_labels = ms.labels_\n",
    "cluster_centers = ms.cluster_centers_\n",
    "\n",
    "colors = cycle(\"bgrcmykbgrcmykbgrcmykbgrcmyk\")\n",
    "for i in np.unique(ms_labels):\n",
    "    plt.scatter(X[ms_labels == i , 0] , X[ms_labels== i , 1], label = i)\n",
    "plt.title(\"Estimated number of clusters: %d\" % len(np.unique(ms_labels)))\n",
    "plt.show()\n",
    "\n",
    "ms = MeanShift(bandwidth=80).fit(X)\n",
    "ms_labels = ms.labels_\n",
    "cluster_centers = ms.cluster_centers_\n",
    "\n",
    "colors = cycle(\"bgrcmykbgrcmykbgrcmykbgrcmyk\")\n",
    "for i in np.unique(ms_labels):\n",
    "    plt.scatter(X[ms_labels == i , 0] , X[ms_labels== i , 1], label = i)\n",
    "plt.title(\"Estimated number of clusters: %d\" % len(np.unique(ms_labels)))\n",
    "plt.show()\n"
   ]
  },
  {
   "cell_type": "markdown",
   "metadata": {},
   "source": [
    "because of the outlier, we can see that the Meanshift does not get a good result at first without defining the value of bandwidth, and then by changing the bandwidth we can get a better result with bandwith=80 (11 clusters) but the coloring of clusters is not as good as k-means . Also because it has a bit wired shape it is better to check by dbscan, to find a good value for epsilon in dbscan try to make the below plot."
   ]
  },
  {
   "cell_type": "code",
   "execution_count": 142,
   "metadata": {},
   "outputs": [
    {
     "data": {
      "text/plain": [
       "(150.0, 180.0)"
      ]
     },
     "execution_count": 142,
     "metadata": {},
     "output_type": "execute_result"
    },
    {
     "data": {
      "image/png": "[encoded data removed]",
      "text/plain": [
       "<Figure size 432x288 with 1 Axes>"
      ]
     },
     "metadata": {
      "needs_background": "light"
     },
     "output_type": "display_data"
    }
   ],
   "source": [
    "\n",
    "neigh = NearestNeighbors(n_neighbors=2)\n",
    "nbrs = neigh.fit(X)\n",
    "distances, indices = nbrs.kneighbors(X)\n",
    "distances = np.sort(distances, axis=0)\n",
    "distances = distances[:,1]\n",
    "plt.plot(distances)\n",
    "plt.xlim(150,180)\n",
    "# so 40 is a good value for epsilon."
   ]
  },
  {
   "cell_type": "code",
   "execution_count": 143,
   "metadata": {},
   "outputs": [
    {
     "name": "stdout",
     "output_type": "stream",
     "text": [
      "number of actual clusters without noise :  8\n",
      "number of noise :  13\n"
     ]
    },
    {
     "data": {
      "image/png": "[encoded data removed]",
      "text/plain": [
       "<Figure size 432x288 with 1 Axes>"
      ]
     },
     "metadata": {
      "needs_background": "light"
     },
     "output_type": "display_data"
    }
   ],
   "source": [
    "# DBsacn\n",
    "db = DBSCAN(eps=40, min_samples=3).fit(X)\n",
    "db_labels = db.fit_predict(X)\n",
    "n_clusters_=len(set(db.labels_)) - (1 if -1 in db.labels_ else 0)\n",
    "print('number of actual clusters without noise : ',n_clusters_)\n",
    "print('number of noise : ', list(db.labels_).count(-1))\n",
    "# Plot the clusters\n",
    "for i in np.unique(db_labels):\n",
    "    plt.scatter(X[db_labels == i , 0] , X[db_labels== i , 1], label = i)\n",
    "plt.legend()\n",
    "plt.title(\"Estimated number of clusters: %d\" % len(np.unique(db_labels)))\n",
    "plt.show() # showing the plot\n"
   ]
  },
  {
   "cell_type": "code",
   "execution_count": 144,
   "metadata": {},
   "outputs": [
    {
     "data": {
      "application/vnd.plotly.v1+json": {
       "config": {
        "plotlyServerURL": "https://plot.ly"
       },
       "data": [
        {
         "marker": {
          "color": [
           0,
           0,
           0,
           0,
           0,
           0,
           0,
           0,
           0,
           0,
           0,
           0,
           0,
           0,
           0,
           0,
           0,
           0,
           0,
           0,
           1,
           1,
           1,
           1,
           0,
           1,
           2,
           2,
           2,
           2,
           2,
           2,
           2,
           2,
           2,
           2,
           2,
           2,
           2,
           2,
           2,
           2,
           2,
           2,
           3,
           3,
           3,
           3,
           3,
           3,
           3,
           3,
           3,
           3,
           3,
           3,
           3,
           -1,
           3,
           3,
           3,
           3,
           3,
           1,
           1,
           1,
           1,
           1,
           1,
           1,
           1,
           1,
           1,
           1,
           1,
           1,
           1,
           1,
           1,
           1,
           1,
           1,
           1,
           1,
           1,
           1,
           -1,
           1,
           -1,
           1,
           1,
           1,
           -1,
           -1,
           -1,
           -1,
           -1,
           -1,
           -1,
           1,
           1,
           1,
           1,
           1,
           1,
           1,
           1,
           1,
           1,
           1,
           1,
           1,
           1,
           1,
           3,
           3,
           3,
           3,
           3,
           3,
           3,
           3,
           3,
           3,
           3,
           3,
           3,
           4,
           4,
           4,
           5,
           5,
           5,
           5,
           5,
           5,
           5,
           5,
           5,
           5,
           5,
           5,
           5,
           6,
           6,
           6,
           6,
           -1,
           -1,
           -1,
           7,
           7,
           7,
           7,
           7,
           7,
           7,
           7,
           7,
           7,
           7,
           7,
           7,
           7,
           7
          ],
          "line": {
           "color": "black",
           "width": 3
          },
          "size": 5
         },
         "mode": "markers",
         "type": "scatter3d",
         "x": [
          133.4267419855418,
          145.34474037656068,
          137.77334150718653,
          141.52373890911144,
          142.35790641437137,
          127.19067431650474,
          122.90060659096784,
          129.8202656522746,
          136.30583860379585,
          139.9163742358789,
          146.05925984567153,
          140.64002212465533,
          150.3805550347973,
          141.78101075377904,
          152.28577142016343,
          155.88784434699522,
          153.08338855845332,
          167.55230624265482,
          165.318888986833,
          163.95143535857295,
          185.5928037605752,
          163.74119628956572,
          182.39172555046105,
          181.5175604817452,
          148.08634804161443,
          150.9620431887193,
          -66.90371311430869,
          -58.76755937860728,
          -52.60549770217138,
          -52.76166586199031,
          -51.87410771676387,
          -60.98187198616536,
          -57.18329361994413,
          -51.07374495557309,
          -41.11652182029143,
          -41.69198404815788,
          -49.82575225380407,
          -38.58444704595202,
          -36.19272090241473,
          -54.69902674809273,
          -34.01121750013084,
          -38.256612953437966,
          -49.95390261670295,
          -37.33088730410485,
          -12.910069344954511,
          -6.653358295095674,
          -4.9946700703010505,
          7.227781912402957,
          -13.548021058025368,
          -3.28525721100947,
          -18.41071761899985,
          -5.685526948053234,
          -0.2658600225154595,
          -9.026813167918696,
          0.0510260530786877,
          -7.278504912878516,
          -3.063911165949559,
          -23.170549216539165,
          5.220218494588059,
          -15.843784210139829,
          10.113571670482273,
          6.720144539312518,
          5.167994038013787,
          55.36023397065801,
          61.762933773802295,
          71.5571561885487,
          74.66140660454754,
          71.8126079627286,
          70.15965100094667,
          77.62071478899968,
          89.18799344379852,
          74.6607049652075,
          100.93005467848326,
          82.72224753936644,
          92.70001207624144,
          89.04513855282899,
          88.54327021283781,
          90.43142689367296,
          104.60506902027326,
          104.75882527067311,
          113.16617972838556,
          131.74483540407329,
          155.50379657924145,
          84.72518172475806,
          86.69904032176257,
          95.5222706852786,
          108.2561138428856,
          89.48099079185126,
          136.92460498045574,
          107.32146027452916,
          96.27230009074484,
          100.14475590475897,
          -133.47676327692923,
          -125.15458359997773,
          -150.64694250208092,
          192.17045038187095,
          -43.16723048242108,
          -67.36706184513903,
          -40.97743264847893,
          -13.609721930878242,
          -3.227945073477031,
          -20.43542920159841,
          -12.22815531056134,
          -10.162004494082618,
          -13.149871287521082,
          1.3326547925946437,
          29.008889685500844,
          34.83284554649723,
          51.239039325872376,
          -13.327249246473166,
          -16.613802898878873,
          -16.92564363948932,
          -6.73395708214847,
          -11.689812671435591,
          -4.239999656524125,
          -25.66567390876292,
          -14.00600821330863,
          -3.9035196138146633,
          12.847191867289316,
          2.985516223339448,
          13.884597371355024,
          4.875926415574327,
          22.85128833599986,
          15.380739205310212,
          10.057329567669976,
          25.435990919297524,
          21.10313026395591,
          3.6663279051130497,
          -17.97172344665311,
          -20.18052838011068,
          -141.6123399373962,
          -148.97886615142536,
          -128.93811246885173,
          -125.17327542352896,
          -104.24762528820928,
          -138.09747306578615,
          -122.39329321043456,
          -100.5239550213812,
          -129.26139686343402,
          -154.54854158221892,
          -145.48272473839518,
          -153.33479934041492,
          -145.9276609162763,
          -191.39223300418212,
          -201.591249376235,
          -179.19344055176023,
          -193.2972565116991,
          -184.05308836458707,
          -183.62866283457456,
          -134.42412383076746,
          -102.09132937901312,
          -98.13065346253732,
          -90.97016592072828,
          -92.19642895138608,
          -94.51813740554364,
          -93.4913531126709,
          -89.31781480542361,
          -85.22076896838024,
          -94.028972538508,
          -94.05083192464495,
          -91.0854619840234,
          -91.4893541663336,
          -90.20410407143537,
          -90.248202114112,
          -88.66344783396184
         ],
         "y": [
          -101.62760328565103,
          -108.22981151468336,
          -107.16274290993142,
          -107.43662597314814,
          -97.19529365413574,
          -98.58805211093502,
          -93.391053076023,
          -105.34503051491492,
          -103.01208875430676,
          -101.67229234165409,
          -105.6587199106282,
          -105.60349212403962,
          -99.95653412105898,
          -106.46352168297476,
          -99.04091267382124,
          -82.90726131912284,
          -85.73574202474352,
          -99.65339799683412,
          -87.38936398646624,
          -90.26458041258968,
          41.7672416037052,
          50.0973815992113,
          45.93501293658009,
          53.4387864838965,
          -111.6591650376332,
          55.68314301077409,
          -78.91435324944126,
          -78.01196120778594,
          -82.78157437965393,
          -81.20958858820367,
          -86.12291552902076,
          -78.66629128362717,
          -82.21495071870196,
          -87.26782534363535,
          -90.4159965493574,
          -86.00085284783344,
          -94.99922479293396,
          -87.54249388480933,
          -93.09459166574676,
          -99.57776209793307,
          -84.94765793682788,
          -93.0394062114554,
          -89.96336934376426,
          -90.57906360136896,
          24.868759853743413,
          33.43980367314532,
          17.828203727518822,
          16.538337954913885,
          48.42032282564888,
          47.72997371183193,
          48.239080210725554,
          43.74714970398369,
          48.37329345293298,
          36.5691410646857,
          48.22138942762737,
          41.76847872091184,
          26.824835354422223,
          20.476981448139373,
          32.452952993170044,
          18.343280614030707,
          36.15715081036168,
          28.20028514529138,
          23.21294961363886,
          71.6096866445385,
          69.01949357465224,
          63.34058688044814,
          65.24493283931216,
          60.300911412258806,
          67.35772686464139,
          56.54711014333786,
          55.10719129578248,
          57.77298906130815,
          52.497101496155615,
          43.90466590491408,
          57.14167288011055,
          48.7278227747256,
          49.372888503015744,
          40.25700320926085,
          50.805523178749645,
          38.0220451599572,
          37.137411308003095,
          40.64895315514971,
          28.05294046342921,
          44.76775307657812,
          25.574668500722492,
          21.189361181698608,
          21.402454733997526,
          25.78497942591876,
          18.549812866570083,
          16.235562243637848,
          25.91636982520185,
          23.046318017479507,
          175.354693220593,
          192.7011417608537,
          185.6541966913165,
          433.4443163620461,
          49.101924693763245,
          29.71690128217235,
          18.240940302106477,
          22.19089786231077,
          1.870818104233935,
          9.32682938249724,
          23.612404974488932,
          30.745510013398302,
          -0.636324066489794,
          53.2545394088645,
          47.0149565801932,
          45.51484956295181,
          42.63313426781151,
          52.51305555008354,
          50.1509722348797,
          53.41455258374352,
          51.94823743300171,
          49.77851038463939,
          26.39436600853329,
          33.110623312580465,
          44.464810793160574,
          38.60407819015338,
          31.28955583977821,
          31.763585432988226,
          26.521829333387736,
          33.51451224278225,
          35.17962060347589,
          27.53066258830944,
          29.56217651375485,
          31.471145567985968,
          23.49448996684276,
          -6.699216533806911,
          1.4745403197868894,
          -5.791192127152626,
          14.57678257102886,
          6.502582658306527,
          -1.4870950247743422,
          3.200604626563423,
          0.2758031547825056,
          8.074878635839191,
          14.484073582873116,
          -3.2768935979163323,
          3.4505074802231555,
          12.66222579772852,
          14.64630060703925,
          30.88534858978136,
          14.561417788621243,
          -11.810132914532248,
          8.513179596842496,
          -4.444748831562071,
          -28.259422667723893,
          -13.015897588161144,
          13.495842714072886,
          57.51673401992239,
          -15.36645930317266,
          -16.075601860758113,
          -20.061031070312755,
          -19.04783927402823,
          -23.35364956870039,
          -21.01974786833541,
          -22.00347391717916,
          -25.975018534757066,
          -34.81777029392721,
          -44.5423768468887,
          -46.16063798067431,
          -39.6141648057337,
          -40.985982281736135,
          -50.11118004962498,
          -43.83538210292534
         ],
         "z": [
          21.125902286593096,
          21.121389669851503,
          18.232497418898276,
          17.448082822011838,
          10.511391033751456,
          16.76162669782065,
          16.829500465251762,
          13.053786593798383,
          8.791377393870313,
          10.385639452751162,
          2.6597524538719406,
          14.4448215619892,
          7.32534778251213,
          10.854660841133104,
          -4.276320501693828,
          -5.148445150757813,
          -3.2551752719781204,
          -13.551778843004612,
          -15.970493451149148,
          -10.711943549652368,
          -39.599839725644735,
          -39.514340189073685,
          -43.67509420435399,
          -37.86657381121091,
          2.2180722359387515,
          -23.954063286776243,
          7.942456250065256,
          -0.6839982390844707,
          3.9770527143442056,
          -0.7692595594274905,
          1.9904493169962847,
          6.154649148954566,
          -2.0902437677229493,
          -5.2958196186618425,
          3.782581052838727,
          -22.91033904795842,
          -20.671104206923424,
          -10.54300535955619,
          -5.339709065597833,
          -6.52188442558021,
          -14.302790006204347,
          -14.02661091348183,
          -4.850546847761422,
          -8.195299007502852,
          -38.14258377044617,
          -45.98126079429608,
          -47.71114580521251,
          -53.21130417784256,
          -55.3874225582116,
          -59.3375496301877,
          -47.34314728520503,
          -55.4449098340594,
          -65.66998213440492,
          -49.291298945753645,
          -64.89909003547446,
          -57.57158671035752,
          -52.5203135358536,
          -53.81224203081353,
          -72.53919267269295,
          -54.20773591559927,
          -69.64070524054227,
          -71.01765323421255,
          -57.14730400428238,
          62.753011583390695,
          40.38009754055681,
          45.78877041678683,
          45.37697954395833,
          40.09497984873213,
          39.03037861513072,
          32.80515663699438,
          26.84335944305233,
          21.6043665477102,
          20.763292044614275,
          26.403157500444596,
          17.37349327074183,
          22.99629114831434,
          20.06085308060785,
          11.507953935237206,
          8.968010523261777,
          9.524606157275448,
          4.012867762168953,
          -5.963440618107835,
          -24.461278498357157,
          -2.0159322094130623,
          9.263812570528591,
          -4.786692400002075,
          -12.13648134553636,
          -7.738912607088364,
          -31.24987961739996,
          2.297468168573394,
          0.8793371391769739,
          -5.449423330148008,
          118.57899399698634,
          131.15914459607302,
          108.91162274834365,
          34.807177963170915,
          91.86258704754847,
          100.93753573488266,
          102.78121431113064,
          71.19231594456058,
          51.3809222904373,
          72.02450624950335,
          69.49073357606207,
          62.22210047080333,
          58.9040012581226,
          39.90779905665456,
          31.02538614327177,
          21.22822747350161,
          10.281424538079987,
          43.92244443706333,
          48.82379663392164,
          45.11645863819992,
          39.60242032213272,
          32.98697361006796,
          -37.53272539823806,
          -22.7148084586578,
          -28.007343151753748,
          -35.52728508944967,
          -55.723713673694746,
          -42.03755164838714,
          -52.10417564124444,
          -45.19875805476494,
          -57.40290352303475,
          -46.377165877247045,
          -45.04428272593144,
          -60.28978579601255,
          -59.09915556400575,
          -33.69530671390904,
          -29.653823866692896,
          -34.89335454238067,
          -69.58490217524482,
          -66.30561317650975,
          -89.51450129674676,
          -94.77888049194534,
          -89.08584999024802,
          -82.88424513712215,
          -70.1193518985706,
          -87.85374764070234,
          -70.65893384769672,
          -89.27673857875145,
          -78.02488992440574,
          -90.48849545259272,
          -96.27684361608186,
          -41.51177800780162,
          -66.0340476514226,
          -60.99703694900755,
          -56.91778517220424,
          -114.98683537128548,
          -101.69762878442432,
          142.16111921072618,
          117.5241356422291,
          119.42060610794891,
          120.91638533851088,
          106.98100914199183,
          104.28089230451174,
          106.38689986692704,
          94.84326159997548,
          83.05140245320139,
          92.7316722373382,
          91.02340832373628,
          86.48865428781289,
          87.43095128161339,
          83.28624967523152,
          77.28508646510731,
          74.68119744694103
         ]
        }
       ],
       "layout": {
        "height": 500,
        "margin": {
         "l": 0,
         "r": 0
        },
        "template": {
         "data": {
          "bar": [
           {
            "error_x": {
             "color": "#2a3f5f"
            },
            "error_y": {
             "color": "#2a3f5f"
            },
            "marker": {
             "line": {
              "color": "#E5ECF6",
              "width": 0.5
             },
             "pattern": {
              "fillmode": "overlay",
              "size": 10,
              "solidity": 0.2
             }
            },
            "type": "bar"
           }
          ],
          "barpolar": [
           {
            "marker": {
             "line": {
              "color": "#E5ECF6",
              "width": 0.5
             },
             "pattern": {
              "fillmode": "overlay",
              "size": 10,
              "solidity": 0.2
             }
            },
            "type": "barpolar"
           }
          ],
          "carpet": [
           {
            "aaxis": {
             "endlinecolor": "#2a3f5f",
             "gridcolor": "white",
             "linecolor": "white",
             "minorgridcolor": "white",
             "startlinecolor": "#2a3f5f"
            },
            "baxis": {
             "endlinecolor": "#2a3f5f",
             "gridcolor": "white",
             "linecolor": "white",
             "minorgridcolor": "white",
             "startlinecolor": "#2a3f5f"
            },
            "type": "carpet"
           }
          ],
          "choropleth": [
           {
            "colorbar": {
             "outlinewidth": 0,
             "ticks": ""
            },
            "type": "choropleth"
           }
          ],
          "contour": [
           {
            "colorbar": {
             "outlinewidth": 0,
             "ticks": ""
            },
            "colorscale": [
             [
              0,
              "#0d0887"
             ],
             [
              0.1111111111111111,
              "#46039f"
             ],
             [
              0.2222222222222222,
              "#7201a8"
             ],
             [
              0.3333333333333333,
              "#9c179e"
             ],
             [
              0.4444444444444444,
              "#bd3786"
             ],
             [
              0.5555555555555556,
              "#d8576b"
             ],
             [
              0.6666666666666666,
              "#ed7953"
             ],
             [
              0.7777777777777778,
              "#fb9f3a"
             ],
             [
              0.8888888888888888,
              "#fdca26"
             ],
             [
              1,
              "#f0f921"
             ]
            ],
            "type": "contour"
           }
          ],
          "contourcarpet": [
           {
            "colorbar": {
             "outlinewidth": 0,
             "ticks": ""
            },
            "type": "contourcarpet"
           }
          ],
          "heatmap": [
           {
            "colorbar": {
             "outlinewidth": 0,
             "ticks": ""
            },
            "colorscale": [
             [
              0,
              "#0d0887"
             ],
             [
              0.1111111111111111,
              "#46039f"
             ],
             [
              0.2222222222222222,
              "#7201a8"
             ],
             [
              0.3333333333333333,
              "#9c179e"
             ],
             [
              0.4444444444444444,
              "#bd3786"
             ],
             [
              0.5555555555555556,
              "#d8576b"
             ],
             [
              0.6666666666666666,
              "#ed7953"
             ],
             [
              0.7777777777777778,
              "#fb9f3a"
             ],
             [
              0.8888888888888888,
              "#fdca26"
             ],
             [
              1,
              "#f0f921"
             ]
            ],
            "type": "heatmap"
           }
          ],
          "heatmapgl": [
           {
            "colorbar": {
             "outlinewidth": 0,
             "ticks": ""
            },
            "colorscale": [
             [
              0,
              "#0d0887"
             ],
             [
              0.1111111111111111,
              "#46039f"
             ],
             [
              0.2222222222222222,
              "#7201a8"
             ],
             [
              0.3333333333333333,
              "#9c179e"
             ],
             [
              0.4444444444444444,
              "#bd3786"
             ],
             [
              0.5555555555555556,
              "#d8576b"
             ],
             [
              0.6666666666666666,
              "#ed7953"
             ],
             [
              0.7777777777777778,
              "#fb9f3a"
             ],
             [
              0.8888888888888888,
              "#fdca26"
             ],
             [
              1,
              "#f0f921"
             ]
            ],
            "type": "heatmapgl"
           }
          ],
          "histogram": [
           {
            "marker": {
             "pattern": {
              "fillmode": "overlay",
              "size": 10,
              "solidity": 0.2
             }
            },
            "type": "histogram"
           }
          ],
          "histogram2d": [
           {
            "colorbar": {
             "outlinewidth": 0,
             "ticks": ""
            },
            "colorscale": [
             [
              0,
              "#0d0887"
             ],
             [
              0.1111111111111111,
              "#46039f"
             ],
             [
              0.2222222222222222,
              "#7201a8"
             ],
             [
              0.3333333333333333,
              "#9c179e"
             ],
             [
              0.4444444444444444,
              "#bd3786"
             ],
             [
              0.5555555555555556,
              "#d8576b"
             ],
             [
              0.6666666666666666,
              "#ed7953"
             ],
             [
              0.7777777777777778,
              "#fb9f3a"
             ],
             [
              0.8888888888888888,
              "#fdca26"
             ],
             [
              1,
              "#f0f921"
             ]
            ],
            "type": "histogram2d"
           }
          ],
          "histogram2dcontour": [
           {
            "colorbar": {
             "outlinewidth": 0,
             "ticks": ""
            },
            "colorscale": [
             [
              0,
              "#0d0887"
             ],
             [
              0.1111111111111111,
              "#46039f"
             ],
             [
              0.2222222222222222,
              "#7201a8"
             ],
             [
              0.3333333333333333,
              "#9c179e"
             ],
             [
              0.4444444444444444,
              "#bd3786"
             ],
             [
              0.5555555555555556,
              "#d8576b"
             ],
             [
              0.6666666666666666,
              "#ed7953"
             ],
             [
              0.7777777777777778,
              "#fb9f3a"
             ],
             [
              0.8888888888888888,
              "#fdca26"
             ],
             [
              1,
              "#f0f921"
             ]
            ],
            "type": "histogram2dcontour"
           }
          ],
          "mesh3d": [
           {
            "colorbar": {
             "outlinewidth": 0,
             "ticks": ""
            },
            "type": "mesh3d"
           }
          ],
          "parcoords": [
           {
            "line": {
             "colorbar": {
              "outlinewidth": 0,
              "ticks": ""
             }
            },
            "type": "parcoords"
           }
          ],
          "pie": [
           {
            "automargin": true,
            "type": "pie"
           }
          ],
          "scatter": [
           {
            "fillpattern": {
             "fillmode": "overlay",
             "size": 10,
             "solidity": 0.2
            },
            "type": "scatter"
           }
          ],
          "scatter3d": [
           {
            "line": {
             "colorbar": {
              "outlinewidth": 0,
              "ticks": ""
             }
            },
            "marker": {
             "colorbar": {
              "outlinewidth": 0,
              "ticks": ""
             }
            },
            "type": "scatter3d"
           }
          ],
          "scattercarpet": [
           {
            "marker": {
             "colorbar": {
              "outlinewidth": 0,
              "ticks": ""
             }
            },
            "type": "scattercarpet"
           }
          ],
          "scattergeo": [
           {
            "marker": {
             "colorbar": {
              "outlinewidth": 0,
              "ticks": ""
             }
            },
            "type": "scattergeo"
           }
          ],
          "scattergl": [
           {
            "marker": {
             "colorbar": {
              "outlinewidth": 0,
              "ticks": ""
             }
            },
            "type": "scattergl"
           }
          ],
          "scattermapbox": [
           {
            "marker": {
             "colorbar": {
              "outlinewidth": 0,
              "ticks": ""
             }
            },
            "type": "scattermapbox"
           }
          ],
          "scatterpolar": [
           {
            "marker": {
             "colorbar": {
              "outlinewidth": 0,
              "ticks": ""
             }
            },
            "type": "scatterpolar"
           }
          ],
          "scatterpolargl": [
           {
            "marker": {
             "colorbar": {
              "outlinewidth": 0,
              "ticks": ""
             }
            },
            "type": "scatterpolargl"
           }
          ],
          "scatterternary": [
           {
            "marker": {
             "colorbar": {
              "outlinewidth": 0,
              "ticks": ""
             }
            },
            "type": "scatterternary"
           }
          ],
          "surface": [
           {
            "colorbar": {
             "outlinewidth": 0,
             "ticks": ""
            },
            "colorscale": [
             [
              0,
              "#0d0887"
             ],
             [
              0.1111111111111111,
              "#46039f"
             ],
             [
              0.2222222222222222,
              "#7201a8"
             ],
             [
              0.3333333333333333,
              "#9c179e"
             ],
             [
              0.4444444444444444,
              "#bd3786"
             ],
             [
              0.5555555555555556,
              "#d8576b"
             ],
             [
              0.6666666666666666,
              "#ed7953"
             ],
             [
              0.7777777777777778,
              "#fb9f3a"
             ],
             [
              0.8888888888888888,
              "#fdca26"
             ],
             [
              1,
              "#f0f921"
             ]
            ],
            "type": "surface"
           }
          ],
          "table": [
           {
            "cells": {
             "fill": {
              "color": "#EBF0F8"
             },
             "line": {
              "color": "white"
             }
            },
            "header": {
             "fill": {
              "color": "#C8D4E3"
             },
             "line": {
              "color": "white"
             }
            },
            "type": "table"
           }
          ]
         },
         "layout": {
          "annotationdefaults": {
           "arrowcolor": "#2a3f5f",
           "arrowhead": 0,
           "arrowwidth": 1
          },
          "autotypenumbers": "strict",
          "coloraxis": {
           "colorbar": {
            "outlinewidth": 0,
            "ticks": ""
           }
          },
          "colorscale": {
           "diverging": [
            [
             0,
             "#8e0152"
            ],
            [
             0.1,
             "#c51b7d"
            ],
            [
             0.2,
             "#de77ae"
            ],
            [
             0.3,
             "#f1b6da"
            ],
            [
             0.4,
             "#fde0ef"
            ],
            [
             0.5,
             "#f7f7f7"
            ],
            [
             0.6,
             "#e6f5d0"
            ],
            [
             0.7,
             "#b8e186"
            ],
            [
             0.8,
             "#7fbc41"
            ],
            [
             0.9,
             "#4d9221"
            ],
            [
             1,
             "#276419"
            ]
           ],
           "sequential": [
            [
             0,
             "#0d0887"
            ],
            [
             0.1111111111111111,
             "#46039f"
            ],
            [
             0.2222222222222222,
             "#7201a8"
            ],
            [
             0.3333333333333333,
             "#9c179e"
            ],
            [
             0.4444444444444444,
             "#bd3786"
            ],
            [
             0.5555555555555556,
             "#d8576b"
            ],
            [
             0.6666666666666666,
             "#ed7953"
            ],
            [
             0.7777777777777778,
             "#fb9f3a"
            ],
            [
             0.8888888888888888,
             "#fdca26"
            ],
            [
             1,
             "#f0f921"
            ]
           ],
           "sequentialminus": [
            [
             0,
             "#0d0887"
            ],
            [
             0.1111111111111111,
             "#46039f"
            ],
            [
             0.2222222222222222,
             "#7201a8"
            ],
            [
             0.3333333333333333,
             "#9c179e"
            ],
            [
             0.4444444444444444,
             "#bd3786"
            ],
            [
             0.5555555555555556,
             "#d8576b"
            ],
            [
             0.6666666666666666,
             "#ed7953"
            ],
            [
             0.7777777777777778,
             "#fb9f3a"
            ],
            [
             0.8888888888888888,
             "#fdca26"
            ],
            [
             1,
             "#f0f921"
            ]
           ]
          },
          "colorway": [
           "#636efa",
           "#EF553B",
           "#00cc96",
           "#ab63fa",
           "#FFA15A",
           "#19d3f3",
           "#FF6692",
           "#B6E880",
           "#FF97FF",
           "#FECB52"
          ],
          "font": {
           "color": "#2a3f5f"
          },
          "geo": {
           "bgcolor": "white",
           "lakecolor": "white",
           "landcolor": "#E5ECF6",
           "showlakes": true,
           "showland": true,
           "subunitcolor": "white"
          },
          "hoverlabel": {
           "align": "left"
          },
          "hovermode": "closest",
          "mapbox": {
           "style": "light"
          },
          "paper_bgcolor": "white",
          "plot_bgcolor": "#E5ECF6",
          "polar": {
           "angularaxis": {
            "gridcolor": "white",
            "linecolor": "white",
            "ticks": ""
           },
           "bgcolor": "#E5ECF6",
           "radialaxis": {
            "gridcolor": "white",
            "linecolor": "white",
            "ticks": ""
           }
          },
          "scene": {
           "xaxis": {
            "backgroundcolor": "#E5ECF6",
            "gridcolor": "white",
            "gridwidth": 2,
            "linecolor": "white",
            "showbackground": true,
            "ticks": "",
            "zerolinecolor": "white"
           },
           "yaxis": {
            "backgroundcolor": "#E5ECF6",
            "gridcolor": "white",
            "gridwidth": 2,
            "linecolor": "white",
            "showbackground": true,
            "ticks": "",
            "zerolinecolor": "white"
           },
           "zaxis": {
            "backgroundcolor": "#E5ECF6",
            "gridcolor": "white",
            "gridwidth": 2,
            "linecolor": "white",
            "showbackground": true,
            "ticks": "",
            "zerolinecolor": "white"
           }
          },
          "shapedefaults": {
           "line": {
            "color": "#2a3f5f"
           }
          },
          "ternary": {
           "aaxis": {
            "gridcolor": "white",
            "linecolor": "white",
            "ticks": ""
           },
           "baxis": {
            "gridcolor": "white",
            "linecolor": "white",
            "ticks": ""
           },
           "bgcolor": "#E5ECF6",
           "caxis": {
            "gridcolor": "white",
            "linecolor": "white",
            "ticks": ""
           }
          },
          "title": {
           "x": 0.05
          },
          "xaxis": {
           "automargin": true,
           "gridcolor": "white",
           "linecolor": "white",
           "ticks": "",
           "title": {
            "standoff": 15
           },
           "zerolinecolor": "white",
           "zerolinewidth": 2
          },
          "yaxis": {
           "automargin": true,
           "gridcolor": "white",
           "linecolor": "white",
           "ticks": "",
           "title": {
            "standoff": 15
           },
           "zerolinecolor": "white",
           "zerolinewidth": 2
          }
         }
        },
        "width": 500
       }
      }
     },
     "metadata": {},
     "output_type": "display_data"
    },
    {
     "data": {
      "text/plain": [
       "<Figure size 1080x1080 with 0 Axes>"
      ]
     },
     "metadata": {},
     "output_type": "display_data"
    }
   ],
   "source": [
    "# 3d scatterplot of dbsacn using plotly\n",
    "import plotly.graph_objs as go\n",
    "fig = plt.figure(figsize = (15,15))\n",
    "trace = go.Scatter3d(x=X[:, 0], y=X[:, 1], z=X[:, 2], mode='markers',marker=dict(color = db_labels, size= 5, line=dict(color= 'black',width = 3)))\n",
    "layout = go.Layout(margin=dict(l=0,r=0),height = 500,width = 500)\n",
    "data = [trace]\n",
    "fig = go.Figure(data = data, layout = layout)\n",
    "fig.show()"
   ]
  },
  {
   "cell_type": "markdown",
   "metadata": {},
   "source": [
    "The result of Dbscan shows 8 clusters and 1 cluster as a noise which is include 13 points of noise. in the visualization of the 3d plot, it is clear that we have a big cluster of pink which is not good, maybe it is better to divide it into two clusters, Also we can see some green point that is stuck on the white cluster as a noise that I think it is not noise and it must be classified as the white cluster. So to make a good decision let's show some comparison plots."
   ]
  },
  {
   "cell_type": "code",
   "execution_count": 145,
   "metadata": {},
   "outputs": [
    {
     "data": {
      "image/png": "[encoded data removed]",
      "text/plain": [
       "<Figure size 1080x576 with 2 Axes>"
      ]
     },
     "metadata": {
      "needs_background": "light"
     },
     "output_type": "display_data"
    }
   ],
   "source": [
    "#using MDS to reduce the dimentions of k-means clustering in 3d and 2d with 10 clusters\n",
    "mds = MDS(random_state=0)\n",
    "X_transform = mds.fit_transform(X)\n",
    "\n",
    "fig = plt.figure(2, (15,8))\n",
    "ax = fig.add_subplot(121, projection='3d')\n",
    "plt.scatter(X[:,0], X[:,1], zs=X[:,2],cmap='turbo' ,s=20, c=km_labels)\n",
    "plt.title('Original Points of k-means with 10 clusters')\n",
    "\n",
    "ax = fig.add_subplot(122)\n",
    "plt.scatter(X_transform[:,0], X_transform[:,1],cmap='turbo', s=20, c=km_labels)\n",
    "plt.title('Embedding in 2D of k_means with 10 clusters')\n",
    "fig.subplots_adjust(wspace=.4, hspace=0.5)\n",
    "plt.show()\n",
    "\n"
   ]
  },
  {
   "cell_type": "markdown",
   "metadata": {},
   "source": [
    "By using MDS in the right plot, it is clear that the clustering with k-means is perfect even though I think 1 of them (orange in bottom right) is outlier not actuall cluster."
   ]
  },
  {
   "cell_type": "code",
   "execution_count": 146,
   "metadata": {},
   "outputs": [
    {
     "data": {
      "image/png": "[encoded data removed]",
      "text/plain": [
       "<Figure size 1080x576 with 2 Axes>"
      ]
     },
     "metadata": {
      "needs_background": "light"
     },
     "output_type": "display_data"
    }
   ],
   "source": [
    "#using MDS to reduce the dimentions of mean_shift clustering in 3d and 2d with 11 clusters\n",
    "mds = MDS(random_state=0)\n",
    "X_transform = mds.fit_transform(X)\n",
    "\n",
    "fig = plt.figure(2, (15,8))\n",
    "ax = fig.add_subplot(121, projection='3d')\n",
    "plt.scatter(X[:,0], X[:,1], zs=X[:,2],cmap='turbo' ,s=20, c=ms_labels)\n",
    "plt.title('Original Points of mean-shift with 11 clusters')\n",
    "\n",
    "ax = fig.add_subplot(122)\n",
    "plt.scatter(X_transform[:,0], X_transform[:,1],cmap='turbo', s=20, c=ms_labels)\n",
    "plt.title('Embedding in 2D of mean_shift with 11 clusters')\n",
    "fig.subplots_adjust(wspace=.4, hspace=0.5)\n",
    "plt.show()"
   ]
  },
  {
   "cell_type": "markdown",
   "metadata": {},
   "source": [
    "Although the number of clusters in mean-shift is more than k-means, the clusters are not as good as k-means. we can see the purple cluster is too long and 3 clusters that each of them includes one point are outliers."
   ]
  },
  {
   "cell_type": "markdown",
   "metadata": {},
   "source": []
  },
  {
   "cell_type": "code",
   "execution_count": 147,
   "metadata": {},
   "outputs": [
    {
     "data": {
      "text/plain": [
       "<function matplotlib.pyplot.show(close=None, block=None)>"
      ]
     },
     "execution_count": 147,
     "metadata": {},
     "output_type": "execute_result"
    },
    {
     "data": {
      "image/png": "[encoded data removed]",
      "text/plain": [
       "<Figure size 1728x576 with 3 Axes>"
      ]
     },
     "metadata": {
      "needs_background": "light"
     },
     "output_type": "display_data"
    }
   ],
   "source": [
    "#using pca for dimention reduction of dbscan\n",
    "pca = PCA(n_components=5)\n",
    "principalComponents = pca.fit_transform(X)\n",
    "principalDf = pd.DataFrame(data = principalComponents, columns = ['pc1', 'pc2', 'pc3','pc4','pc5'])\n",
    "principalDf.head()\n",
    "\n",
    "fig = plt.figure(2, (24,8))\n",
    "ax = fig.add_subplot(131)\n",
    "plt.scatter(principalDf['pc1'], principalDf['pc2'],s=30, cmap= 'turbo', c = db_labels)\n",
    "plt.title('Clusters of db_scan using PC1 and PC2')\n",
    "ax = fig.add_subplot(132)\n",
    "plt.scatter(principalDf['pc1'], principalDf['pc3'], s=30, cmap='turbo', c = db_labels)\n",
    "plt.title('Clusters of db_scan using PC1 and PC3')\n",
    "ax = fig.add_subplot(133)\n",
    "plt.scatter(principalDf['pc2'], principalDf['pc3'], s=30, cmap='turbo', c = db_labels)\n",
    "plt.title('Clusters of db_scan using PC2 and PC3')\n",
    "fig.subplots_adjust(wspace=.4, hspace=0.5)\n",
    "plt.show\n"
   ]
  },
  {
   "cell_type": "markdown",
   "metadata": {},
   "source": [
    "By using the PCA, we can reduce the dimensionality to visualize easier. Now we can see that by using the db-scan method again we have a long cluster in blue like the result of mean-shift method."
   ]
  },
  {
   "cell_type": "code",
   "execution_count": 148,
   "metadata": {},
   "outputs": [
    {
     "data": {
      "text/plain": [
       "<function matplotlib.pyplot.show(close=None, block=None)>"
      ]
     },
     "execution_count": 148,
     "metadata": {},
     "output_type": "execute_result"
    },
    {
     "data": {
      "image/png": "[encoded data removed]",
      "text/plain": [
       "<Figure size 1728x576 with 3 Axes>"
      ]
     },
     "metadata": {
      "needs_background": "light"
     },
     "output_type": "display_data"
    }
   ],
   "source": [
    "#using PCA for dimentionality reduction and comparison between kmeans ,meanshift and dbscan\n",
    "fig = plt.figure(2, (24,8))\n",
    "ax = fig.add_subplot(131)\n",
    "plt.scatter(principalDf['pc1'], principalDf['pc3'],s=20, cmap='jet', c = km_labels )\n",
    "plt.title('Clustering by k_means using PC1 and PC3'+'\\n'+'10 clusters')\n",
    "ax = fig.add_subplot(132)\n",
    "plt.scatter(principalDf['pc1'], principalDf['pc3'], s=20, cmap='jet',c = db_labels)\n",
    "plt.title('clustering by db-scan using PC1 and PC3'+'\\n'+'9 clusters')\n",
    "ax = fig.add_subplot(133)\n",
    "plt.scatter(principalDf['pc1'], principalDf['pc3'], s=20, cmap='jet',c = ms_labels)\n",
    "plt.title('clustering by mean-shift using PC1 and PC3'+'\\n'+'11 clusters')\n",
    "fig.subplots_adjust(wspace=.4, hspace=0.5)\n",
    "plt.show"
   ]
  },
  {
   "cell_type": "markdown",
   "metadata": {},
   "source": [
    "you can see in the comparison plot, that the clusters in the left plot(k-means with 10 clusters(9 cluster+1 outlier)) are divided very well without overlapping whereas in the  middle plot (dbscan with 9 clusters(8 clusters+ 1 outlier)) the light blue cluster is so long and also there is some overlapping color on some of the clusters and in the right plot(mean-shift with 11 clusters(8 clusters+ 3 outliers)) we have 3 cluster that each one include one point. Thus based on visualization I believe the best method is K-means clustering with 10 clusters."
   ]
  },
  {
   "cell_type": "code",
   "execution_count": 149,
   "metadata": {},
   "outputs": [
    {
     "name": "stdout",
     "output_type": "stream",
     "text": [
      "k_means\" 0.32595991993326356\n",
      "db_scan 0.27638580656184153\n",
      "mean_shift 0.3234111291375029\n"
     ]
    }
   ],
   "source": [
    "#we know there is not a specific column to compare and find the accuracy. Still, with this method, we can estimate which method is better in comparison with each other approximately.\n",
    "#using statistical test to evaluate the accuracy\n",
    "print('k_means\"',metrics.adjusted_rand_score(km_labels, datas['Species']))\n",
    "print('db_scan',metrics.adjusted_rand_score(db_labels, datas['Species']))\n",
    "print('mean_shift',metrics.adjusted_rand_score(ms_labels, datas['Species']))"
   ]
  },
  {
   "cell_type": "markdown",
   "metadata": {},
   "source": [
    "Based on the statistical test also, the k-means clustering has the best accuracy. So Based on P.G.A I believe the k-means with 10 clusters is the best way to cluster this dataset. "
   ]
  },
  {
   "cell_type": "markdown",
   "metadata": {},
   "source": [
    "By the way, I think for this dataset maybe HAC also would be a good suggestion because this method is a good method to categorize the dataset that can describe as a tree-like something that is related to inheritance and maybe pay attention more to Genus, Age or Sex can get a different result but as we know this dataset is so noisy and without ignoring the outlier working on it would be so challenging. I believe if I could spend more time on it, I will get a better and different result."
   ]
  },
  {
   "cell_type": "code",
   "execution_count": 156,
   "metadata": {},
   "outputs": [
    {
     "data": {
      "image/png": "[encoded data removed]",
      "text/plain": [
       "<Figure size 4800x2700 with 1 Axes>"
      ]
     },
     "metadata": {
      "needs_background": "light"
     },
     "output_type": "display_data"
    }
   ],
   "source": [
    "import scipy.cluster.hierarchy as sch \n",
    "\n",
    "# Create a figure\n",
    "plt.figure(figsize=(16,9), dpi=300)\n",
    "\n",
    "# Create linkage\n",
    "Z = sch.linkage(X, method='ward', optimal_ordering=True) # note we use method='average'\n",
    "\n",
    "# Specify cluster colors\n",
    "sch.set_link_color_palette(['red', '#34eb34', 'blue', '#ae34eb'])\n",
    "\n",
    "# Draw a dendrogram\n",
    "sch.dendrogram(Z, leaf_rotation=90, leaf_font_size=4, labels=list(datas['Species']), \n",
    "               color_threshold=25, above_threshold_color='black')\n",
    " \n",
    "# Add horizontal line\n",
    "plt.axhline(y=25, c='grey', lw=1, linestyle='dashed')\n",
    "\n",
    "# Show the plot\n",
    "plt.show()"
   ]
  }
 ],
 "metadata": {
  "interpreter": {
   "hash": "0a170ef4386f174fc9d0d266485e4c7f0d6ef64f25a0664e2a20876587fb8912"
  },
  "kernelspec": {
   "display_name": "Python 3.9.7 ('base')",
   "language": "python",
   "name": "python3"
  },
  "language_info": {
   "codemirror_mode": {
    "name": "ipython",
    "version": 3
   },
   "file_extension": ".py",
   "mimetype": "text/x-python",
   "name": "python",
   "nbconvert_exporter": "python",
   "pygments_lexer": "ipython3",
   "version": "3.9.7"
  },
  "orig_nbformat": 4
 },
 "nbformat": 4,
 "nbformat_minor": 2
}
